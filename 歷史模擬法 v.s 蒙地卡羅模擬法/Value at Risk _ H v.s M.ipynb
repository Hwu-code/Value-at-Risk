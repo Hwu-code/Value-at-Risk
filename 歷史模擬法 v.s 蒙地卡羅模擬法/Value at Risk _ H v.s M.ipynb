{
 "cells": [
  {
   "cell_type": "markdown",
   "id": "f43f3baf",
   "metadata": {},
   "source": [
    "VaR : Historical simulation v.s Monte Carlo simulation\n",
    "===\n",
    "分別利用歷史模擬法 (Historical simulation approach) 以及蒙地卡羅模擬法 (Monte Carlo simulation approach) 來計算 95% 風險值 (Value at Risk)。  \n",
    "**計算參數：**  \n",
    "資產：比特幣(BTC-USD)  \n",
    "資產總值：1000萬  \n",
    "資產投資期間：五天  \n",
    "- - -\n",
    "歷史模擬法 (Historical simulation approach)\n",
    "---  \n",
    "\n",
    "1.從 yahoo finance 直接抓取 BTC-USD 的每日資料(2022/03/21 ~ 2022/11/30)  "
   ]
  },
  {
   "cell_type": "code",
   "execution_count": 5,
   "id": "2d2265c2",
   "metadata": {},
   "outputs": [
    {
     "name": "stdout",
     "output_type": "stream",
     "text": [
      "[*********************100%***********************]  1 of 1 completed\n",
      "                    Open          High           Low         Close  \\\n",
      "Date                                                                 \n",
      "2022-03-20  42191.406250  42241.164062  41004.757812  41247.824219   \n",
      "2022-03-21  41246.132812  41454.410156  40668.042969  41077.996094   \n",
      "2022-03-22  41074.105469  43124.707031  40948.281250  42358.808594   \n",
      "2022-03-23  42364.378906  42893.507812  41877.507812  42892.957031   \n",
      "2022-03-24  42886.652344  44131.855469  42726.164062  43960.933594   \n",
      "\n",
      "               Adj Close       Volume  \n",
      "Date                                   \n",
      "2022-03-20  41247.824219  20127946682  \n",
      "2022-03-21  41077.996094  24615543271  \n",
      "2022-03-22  42358.808594  32004652376  \n",
      "2022-03-23  42892.957031  25242943069  \n",
      "2022-03-24  43960.933594  31042992291  \n",
      "                    Open          High           Low         Close  \\\n",
      "Date                                                                 \n",
      "2022-11-25  16602.269531  16603.316406  16388.404297  16521.841797   \n",
      "2022-11-26  16521.576172  16666.863281  16416.228516  16464.281250   \n",
      "2022-11-27  16463.882812  16594.406250  16437.025391  16444.626953   \n",
      "2022-11-28  16440.222656  16482.933594  16054.530273  16217.322266   \n",
      "2022-11-29  16217.639648  16522.257812  16139.396484  16444.982422   \n",
      "\n",
      "               Adj Close       Volume  \n",
      "Date                                   \n",
      "2022-11-25  16521.841797  18678255976  \n",
      "2022-11-26  16464.281250  18000008764  \n",
      "2022-11-27  16444.626953  20443898509  \n",
      "2022-11-28  16217.322266  27743025156  \n",
      "2022-11-29  16444.982422  23581685468  \n"
     ]
    }
   ],
   "source": [
    "import yfinance as yf\n",
    "import pandas as pd\n",
    "import numpy as np\n",
    "import random\n",
    "import matplotlib.pyplot as plt\n",
    "\n",
    "BTC_price = yf.download('BTC-USD', start = '2022-03-21', end = '2022-11-30')\n",
    "print(BTC_price.head(5))\n",
    "print(BTC_price.tail(5))"
   ]
  },
  {
   "cell_type": "markdown",
   "id": "853f9aa9",
   "metadata": {},
   "source": [
    "2.進行資料清洗  \n",
    "\n",
    "以每日收盤價進行計算，分別計算每日報酬率以及五日報酬率，再將所得五日報酬率進行排序，由小排到大。"
   ]
  },
  {
   "cell_type": "code",
   "execution_count": 9,
   "id": "9dca59b0",
   "metadata": {
    "scrolled": true
   },
   "outputs": [
    {
     "name": "stdout",
     "output_type": "stream",
     "text": [
      "                   Close    Close_lag1    Close_lag5  Return1  Return5\n",
      "Date                                                                  \n",
      "2022-06-16  20381.650391  22572.839844  28360.810547  -0.0971  -0.2813\n",
      "2022-06-14  22206.792969  22487.388672  30111.998047  -0.0125  -0.2625\n",
      "2022-06-13  22487.388672  26762.648438  30214.355469  -0.1597  -0.2557\n",
      "2022-11-09  15880.780273  18541.271484  21147.230469  -0.1435  -0.2490\n",
      "2022-05-09  30296.953125  34059.265625  39698.371094  -0.1105  -0.2368\n",
      "                   Close    Close_lag1    Close_lag5  Return1  Return5\n",
      "Date                                                                  \n",
      "2022-07-07  21637.587891  20548.246094  19242.255859   0.0530   0.1245\n",
      "2022-07-08  21731.117188  21637.587891  19297.076172   0.0043   0.1261\n",
      "2022-07-19  23389.433594  22485.689453  20569.919922   0.0402   0.1371\n",
      "2022-09-11  21769.255859  21680.539062  18837.667969   0.0041   0.1556\n",
      "2022-09-12  22370.449219  21769.255859  19290.324219   0.0276   0.1597\n"
     ]
    },
    {
     "name": "stderr",
     "output_type": "stream",
     "text": [
      "<ipython-input-9-f674e9546b0d>:4: SettingWithCopyWarning: \n",
      "A value is trying to be set on a copy of a slice from a DataFrame.\n",
      "Try using .loc[row_indexer,col_indexer] = value instead\n",
      "\n",
      "See the caveats in the documentation: https://pandas.pydata.org/pandas-docs/stable/user_guide/indexing.html#returning-a-view-versus-a-copy\n",
      "  BTC_close['Close_lag1'] = BTC_close['Close'].shift(1)\n",
      "<ipython-input-9-f674e9546b0d>:5: SettingWithCopyWarning: \n",
      "A value is trying to be set on a copy of a slice from a DataFrame.\n",
      "Try using .loc[row_indexer,col_indexer] = value instead\n",
      "\n",
      "See the caveats in the documentation: https://pandas.pydata.org/pandas-docs/stable/user_guide/indexing.html#returning-a-view-versus-a-copy\n",
      "  BTC_close['Close_lag5'] = BTC_close['Close'].shift(5)\n",
      "<ipython-input-9-f674e9546b0d>:6: SettingWithCopyWarning: \n",
      "A value is trying to be set on a copy of a slice from a DataFrame.\n",
      "Try using .loc[row_indexer,col_indexer] = value instead\n",
      "\n",
      "See the caveats in the documentation: https://pandas.pydata.org/pandas-docs/stable/user_guide/indexing.html#returning-a-view-versus-a-copy\n",
      "  BTC_close['Return1'] = round((BTC_close['Close'] - BTC_close['Close_lag1']) / BTC_close['Close_lag1'], 4)\n",
      "<ipython-input-9-f674e9546b0d>:7: SettingWithCopyWarning: \n",
      "A value is trying to be set on a copy of a slice from a DataFrame.\n",
      "Try using .loc[row_indexer,col_indexer] = value instead\n",
      "\n",
      "See the caveats in the documentation: https://pandas.pydata.org/pandas-docs/stable/user_guide/indexing.html#returning-a-view-versus-a-copy\n",
      "  BTC_close['Return5'] = round((BTC_close['Close'] - BTC_close['Close_lag5']) / BTC_close['Close_lag5'], 4)\n"
     ]
    }
   ],
   "source": [
    "#過去255天的收盤價\n",
    "BTC_close = BTC_price[['Close']]\n",
    "#計算報酬率 Ri = (Pi+1 - Pi)/Pi\n",
    "BTC_close['Close_lag1'] = BTC_close['Close'].shift(1)\n",
    "BTC_close['Close_lag5'] = BTC_close['Close'].shift(5)\n",
    "BTC_close['Return1'] = round((BTC_close['Close'] - BTC_close['Close_lag1']) / BTC_close['Close_lag1'], 4)\n",
    "BTC_close['Return5'] = round((BTC_close['Close'] - BTC_close['Close_lag5']) / BTC_close['Close_lag5'], 4)\n",
    "#將報酬率由小到大排序\n",
    "BTC_close_H = BTC_close.sort_values(by = 'Return5')\n",
    "BTC_close1 = BTC_close_H.dropna()\n",
    "print(BTC_close1.head(5))\n",
    "print(BTC_close1.tail(5))"
   ]
  },
  {
   "cell_type": "markdown",
   "id": "c2d1383b",
   "metadata": {},
   "source": [
    "3.計算出 95% 的臨界報酬率 (5%)"
   ]
  },
  {
   "cell_type": "code",
   "execution_count": 31,
   "id": "477c524a",
   "metadata": {},
   "outputs": [
    {
     "name": "stdout",
     "output_type": "stream",
     "text": [
      "critical_value_H  is  -0.15317499999999998\n"
     ]
    }
   ],
   "source": [
    "critical_value_H = np.percentile(BTC_close1['Return5'], 5)\n",
    "print('critical_value_H  is ', critical_value_H)"
   ]
  },
  {
   "cell_type": "markdown",
   "id": "f724830b",
   "metadata": {},
   "source": [
    "4.計算風險值(取整數)  \n",
    "\n",
    "VaR = V * critical_value"
   ]
  },
  {
   "cell_type": "code",
   "execution_count": 30,
   "id": "1ddb20b2",
   "metadata": {},
   "outputs": [
    {
     "name": "stdout",
     "output_type": "stream",
     "text": [
      "VaR is  1531750\n"
     ]
    }
   ],
   "source": [
    "V = 10000000\n",
    "VaR_H = -V * critical_value_H\n",
    "VaR_H = round(VaR_H)\n",
    "print('VaR is ', VaR_H)"
   ]
  },
  {
   "cell_type": "markdown",
   "id": "6c7940a4",
   "metadata": {},
   "source": [
    "- - -\n",
    "蒙地卡羅模擬法 (Monte Carlo simulation approach)\n",
    "---   \n",
    "$$\\frac{dS}{S} = \\mu dt + \\sigma dW_t$$  \n",
    "1.計算蒙地卡羅模擬所需參數  \n",
    "\n",
    "利用上一題取得的資料來計算模擬所需參數：  \n",
    "$\\mu$ ：日報酬平均值。  \n",
    "$\\sigma$ ：日報酬標準差。  \n",
    "days ：模擬資料區間。  \n",
    "z ：標準常態隨機取值。  \n",
    "dt = 1。  \n",
    "最終定義模擬日報酬函數。"
   ]
  },
  {
   "cell_type": "code",
   "execution_count": 23,
   "id": "047623e1",
   "metadata": {},
   "outputs": [],
   "source": [
    "mu = np.nanmean(BTC_close['Return1'])\n",
    "sigma = np.nanstd(BTC_close['Return1'])\n",
    "days = 255\n",
    "z = np.random.normal(size = days)\n",
    "dt = 1\n",
    "daily_return = np.exp((mu - 0.5 * sigma**2) + sigma * z)"
   ]
  },
  {
   "cell_type": "markdown",
   "id": "49abaf42",
   "metadata": {},
   "source": [
    "2.模擬蒙地卡羅路徑，並將路經圖繪製。(由 2022/11/30 為模擬起始點)"
   ]
  },
  {
   "cell_type": "code",
   "execution_count": 24,
   "id": "f832a34d",
   "metadata": {
    "scrolled": true
   },
   "outputs": [
    {
     "data": {
      "text/plain": [
       "[<matplotlib.lines.Line2D at 0x243aaaf81f0>]"
      ]
     },
     "execution_count": 24,
     "metadata": {},
     "output_type": "execute_result"
    },
    {
     "data": {
      "image/png": "[encoded data removed]",
      "text/plain": [
       "<Figure size 432x288 with 1 Axes>"
      ]
     },
     "metadata": {
      "needs_background": "light"
     },
     "output_type": "display_data"
    }
   ],
   "source": [
    "BTC_path = np.zeros_like(daily_return)\n",
    "BTC_path[0] = BTC_price['Close'][-1]\n",
    "for i in range(1, days):\n",
    "    BTC_path[i] = BTC_path[i-1]*daily_return[i]\n",
    "    \n",
    "plt.plot(BTC_path)"
   ]
  },
  {
   "cell_type": "markdown",
   "id": "5de02878",
   "metadata": {},
   "source": [
    "3.以每日收盤價進行計算，計算五日報酬率，再將所得五日報酬率進行排序，由小排到大。"
   ]
  },
  {
   "cell_type": "code",
   "execution_count": 25,
   "id": "83dc5386",
   "metadata": {},
   "outputs": [
    {
     "name": "stdout",
     "output_type": "stream",
     "text": [
      "            Close    Close_lag5  Return5\n",
      "248   8185.108977   9907.222020  -0.1738\n",
      "30   12049.007254  14517.583810  -0.1700\n",
      "203  10222.586069  12309.314348  -0.1695\n",
      "247   8415.301487  10058.880583  -0.1634\n",
      "10   13673.791463  16278.529000  -0.1600\n",
      "            Close    Close_lag5  Return5\n",
      "228  12541.056584  10918.608057   0.1486\n",
      "195  12117.057305  10540.343752   0.1496\n",
      "225  11775.337860  10223.775451   0.1518\n",
      "137  11756.099243  10110.539729   0.1628\n",
      "227  12749.033047  10627.997863   0.1996\n"
     ]
    }
   ],
   "source": [
    "BTC_path = pd.DataFrame(BTC_path)\n",
    "BTC_path.columns = ['Close']\n",
    "BTC_path['Close_lag5'] = BTC_path['Close'].shift(5)\n",
    "BTC_path['Return5'] = round((BTC_path['Close'] - BTC_path['Close_lag5']) / BTC_path['Close_lag5'], 4)\n",
    "BTC_close_M = BTC_path.sort_values(by = 'Return5')\n",
    "BTC_close2 = BTC_close_M.dropna()\n",
    "print(BTC_close2.head(5))\n",
    "print(BTC_close2.tail(5))"
   ]
  },
  {
   "cell_type": "markdown",
   "id": "24bdde9d",
   "metadata": {},
   "source": [
    "4.計算出 95% 的臨界報酬率 (5%)"
   ]
  },
  {
   "cell_type": "code",
   "execution_count": 26,
   "id": "d63e4e32",
   "metadata": {},
   "outputs": [
    {
     "name": "stdout",
     "output_type": "stream",
     "text": [
      "critical_value_M  is  -0.138205\n"
     ]
    }
   ],
   "source": [
    "critical_value_M = np.percentile(BTC_close2['Return5'], 5)\n",
    "print('critical_value_M  is ', critical_value_M)"
   ]
  },
  {
   "cell_type": "markdown",
   "id": "53408ac8",
   "metadata": {},
   "source": [
    "5.計算風險值(取整數)  \n",
    "\n",
    "VaR = V * critical_value"
   ]
  },
  {
   "cell_type": "code",
   "execution_count": 29,
   "id": "912ffd3d",
   "metadata": {},
   "outputs": [
    {
     "name": "stdout",
     "output_type": "stream",
     "text": [
      "VaR is  1382050\n"
     ]
    }
   ],
   "source": [
    "VaR_M = -V * critical_value_M\n",
    "VaR_M = round(VaR_M)\n",
    "print('VaR is ', VaR_M)"
   ]
  }
 ],
 "metadata": {
  "kernelspec": {
   "display_name": "Python 3",
   "language": "python",
   "name": "python3"
  },
  "language_info": {
   "codemirror_mode": {
    "name": "ipython",
    "version": 3
   },
   "file_extension": ".py",
   "mimetype": "text/x-python",
   "name": "python",
   "nbconvert_exporter": "python",
   "pygments_lexer": "ipython3",
   "version": "3.8.8"
  }
 },
 "nbformat": 4,
 "nbformat_minor": 5
}
